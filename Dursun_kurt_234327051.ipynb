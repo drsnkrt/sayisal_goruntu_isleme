{
 "cells": [
  {
   "cell_type": "markdown",
   "id": "040836e8-4df1-40e1-a22a-edf6e28cac6c",
   "metadata": {},
   "source": [
    "Hocam öncelikle selamlar\n",
    "Colab linkinde resimlerin değişimiyle ilgili görüşlerimi yorum olarak ekledim. Burada da sizin halihazırda verdiğiniz kodlara yaptığım geliştirmeleri Markdown olarak alt satırlarına ekledim.\n",
    "Jupyter windows kurulum için öncelikle cihazda python ve pip(kurumsal şirketlerdeki kurulumlarda eksik oluyor) yüklü olmalı. https://jupyter.org/install adresinden yönergeleri izledim ve 8888 portuna kuruldu."
   ]
  },
  {
   "cell_type": "code",
   "execution_count": null,
   "id": "abe3b3f9-c4e2-4a4b-85cf-157e872d6a46",
   "metadata": {},
   "outputs": [],
   "source": [
    "# Import necessary packages\n",
    "import random\n",
    "import cv2\n",
    "import pandas as pd\n",
    "import numpy as np\n",
    "import matplotlib.pyplot as plt\n",
    "%matplotlib inline\n",
    "import os\n",
    "import seaborn as sns\n",
    "sns.set()\n",
    "from mpl_toolkits.axes_grid1 import ImageGrid\n",
    "from scipy.ndimage import zoom\n",
    "from skimage import exposure"
   ]
  },
  {
   "cell_type": "markdown",
   "id": "5e902748-c1f9-4c8e-80d6-6263b69fe715",
   "metadata": {},
   "source": [
    "Gerekli importlar yapıldı, ek olarak random ve ImageGrid kütüphanelerini de ekledim."
   ]
  },
  {
   "cell_type": "code",
   "execution_count": null,
   "id": "23fe9cdc-ba24-42c6-b538-8b1a469a049f",
   "metadata": {},
   "outputs": [],
   "source": [
    "# define most used methods for project\n",
    "\n",
    "#get images min-max values\n",
    "def get_image_min_max_val(img):\n",
    "    return img.min(), img.max()\n",
    "\n",
    "#get an img and convert to contrast stretched mode\n",
    "def get_image_contrast_stretched(img,min,max):\n",
    "    cs=(img - min) / (max - min)# Returns values in [0, 1]\n",
    "    return (cs * 255).astype(np.uint8)\n",
    "\n",
    "\n",
    "# get a contrast stretched image to convert equalized image\n",
    "def get_equalized_image(cs):\n",
    "    ei= exposure.equalize_hist(cs)# Returns values in [0, 1]\n",
    "    return (ei * 255).astype(np.uint8)\n",
    "\n",
    "#get an equalized image to convert gamma corrected image\n",
    "def get_gamma_corrected(ei):\n",
    "     gc = np.power(ei / 255.0, gamma) * 255\n",
    "     return gc.astype(np.uint8)\n",
    "\n",
    "#get an image name and convert a processable image\n",
    "def get_raw_image(image_name):\n",
    "    return plt.imread(os.path.join(img_dir, image_name))"
   ]
  },
  {
   "cell_type": "markdown",
   "id": "9662755b-9477-41ea-9ae8-53670240f1bd",
   "metadata": {},
   "source": [
    "birden çok yerde kullanacağım bazı methodları buraya ekledim."
   ]
  },
  {
   "cell_type": "code",
   "execution_count": null,
   "id": "d8d08c8b-d990-4ce2-a75c-5052630531e8",
   "metadata": {},
   "outputs": [],
   "source": [
    "# clone the datas, change directory\n",
    "!git clone https://github.com/hardik0/AI-for-Medicine-Specialization\n",
    "%cd AI-for-Medicine-Specialization/AI-for-Medical-Diagnosis/"
   ]
  },
  {
   "cell_type": "markdown",
   "id": "13c6b9db-4444-47fe-b5bf-576f1a0291e9",
   "metadata": {},
   "source": [
    "Sizin verdiğiniz resimleri indirme ve klasöre geçme kısmı"
   ]
  },
  {
   "cell_type": "code",
   "execution_count": null,
   "id": "15425c41-f05c-4a0a-8271-4982a8faab8c",
   "metadata": {},
   "outputs": [],
   "source": [
    "#print inside nih\n",
    "%ls nih/\n",
    "\n",
    "# Read csv file containing training datadata\n",
    "train_df = pd.read_csv(\"nih/train-small.csv\")\n",
    "# Print first 5 rows\n",
    "print(f'There are {train_df.shape[0]} rows and {train_df.shape[1]} columns in this data frame')\n",
    "train_df.head()\n",
    "\n",
    "train_df.info()\n",
    "\n",
    "print(f\"The total patient ids are {train_df['PatientId'].count()}, from those the unique ids are {train_df['PatientId'].value_counts().shape[0]} \")\n",
    "columns = train_df.keys()\n",
    "columns = list(columns)\n",
    "print(columns)\n",
    "\n",
    "for column in columns:\n",
    "    print(f\"The class {column} has {train_df[column].sum()} samples\")\n",
    "\n",
    "# Extract numpy values from Image column in data frame\n",
    "images = train_df['Image'].values\n",
    "\n",
    "# Extract 9 random images from it\n",
    "random_images = [np.random.choice(images) for i in range(9)]\n",
    "\n",
    "# Location of the image dir\n",
    "img_dir = 'nih/images_small/'\n",
    "\n",
    "#gamma value\n",
    "gamma = 1.2\n",
    "\n",
    "print('Display Random Images')\n",
    "\n",
    "# Adjust the size of your images\n",
    "plt.figure(figsize=(20,10))\n",
    "\n",
    "# Iterate and plot random images\n",
    "for i in range(9):\n",
    "    plt.subplot(3, 3, i + 1)\n",
    "    img = plt.imread(os.path.join(img_dir, random_images[i]))\n",
    "    plt.imshow(img, cmap='gray')\n",
    "    plt.axis('off')\n",
    "\n",
    "# Adjust subplot parameters to give specified padding\n",
    "plt.tight_layout()"
   ]
  },
  {
   "cell_type": "markdown",
   "id": "bb28d07e-05b5-4983-83d0-2430df1771ce",
   "metadata": {},
   "source": [
    "yine sizin verdiğiniz rastgele 9 resim seçtirip ekrana 3x3 şeklinde bastırma kısmı"
   ]
  },
  {
   "cell_type": "code",
   "execution_count": null,
   "id": "6aa26f66-6323-4085-bfc6-5819397a2ee7",
   "metadata": {},
   "outputs": [],
   "source": [
    "#create a new fig \n",
    "new_fig = plt.figure(figsize=(15, 15))\n",
    "# use imagegrid library for get a grid\n",
    "grid = ImageGrid(new_fig, 111,\n",
    "                 nrows_ncols=(3, 3),  # creates 3x3 grid of axes\n",
    "                 axes_pad=1,  # pad between axes\n",
    "                 )\n",
    "\n",
    "#showing images in a 3x3 grid with foreach\n",
    "for ax, img in zip(grid,random_images):\n",
    "\n",
    "    raw_image=get_raw_image(img)\n",
    "    ax.set_title(img)\n",
    "    ax.imshow(raw_image, cmap='gray')\n",
    "\n",
    "    #print the values\n",
    "    print(f\"The dimensions of the {img} image are {raw_image.shape[0]} pixels width and {raw_image.shape[1]} pixels height, one single color channel\")\n",
    "    print(f\"The maximum {img} image pixel value is {raw_image.max():.4f} and the minimum is {raw_image.min():.4f}\")\n",
    "    print(f\"The mean value of the {img} pixels is {raw_image.mean():.4f} and the standard deviation is {raw_image.std():.4f}\")"
   ]
  },
  {
   "cell_type": "markdown",
   "id": "8a020268-3b79-4a91-82f2-51e61a6d83d7",
   "metadata": {},
   "source": [
    "Burada ImageGrid kütüptanesini kullanran 3x3 boyutunda bir grid'e resimleri bastırdım."
   ]
  },
  {
   "cell_type": "code",
   "execution_count": null,
   "id": "7154733b-d5b8-4d90-99a0-55306f680080",
   "metadata": {},
   "outputs": [],
   "source": [
    "#set figure size\n",
    "plt.figure(figsize=(20,20))\n",
    "\n",
    "#foreach images\n",
    "for i, img in enumerate(random_images):\n",
    "    \n",
    "    #set 3x3 grid and auto assign where image display in the grid \n",
    "    plt.subplot(3, 3, i + 1)\n",
    "    #set raw image\n",
    "    raw_image = get_raw_image(img)\n",
    "\n",
    "    #draw histograms for all images\n",
    "    sns.distplot(raw_image.ravel(),\n",
    "             label=f'Pixel Mean {np.mean(raw_image):.4f} & Standard Deviation {np.std(raw_image):.4f}', kde=False)\n",
    "    plt.legend(loc='upper center')\n",
    "    #set image name title \n",
    "    plt.title(img)\n",
    "    plt.xlabel('Pixel Intensity')\n",
    "    plt.ylabel('# Pixels in Image')"
   ]
  },
  {
   "cell_type": "markdown",
   "id": "81ff91e3-c97b-4673-b2e0-ca15793384a9",
   "metadata": {},
   "source": [
    "Burada enumerate etmemin sebebi sizin otomatik olarak resmin yerini belirlediğiniz yapıyı bozmamak. For döngülerini de foreach'lere çevirdim."
   ]
  },
  {
   "cell_type": "code",
   "execution_count": null,
   "id": "d21b58ce-166f-4afb-a416-49d77ca1047c",
   "metadata": {},
   "outputs": [],
   "source": [
    "#draw all random images and their histograms. original,Contrast-Stretched,contrast-equalized,gamma-corrected\n",
    "for img in random_images:\n",
    "\n",
    "    raw_image = get_raw_image(img)\n",
    "\n",
    "    min_val, max_val = get_image_min_max_val(raw_image)[0],get_image_min_max_val(raw_image)[1]\n",
    "\n",
    "    contrast_stretched = get_image_contrast_stretched(raw_image,min_val,max_val)\n",
    "    equalized_image = get_equalized_image(contrast_stretched)\n",
    "    gamma_corrected = get_gamma_corrected(equalized_image)\n",
    "\n",
    "    # Plot original image and histogram\n",
    "    print(img+\" to be processed\")\n",
    "    plt.figure(figsize=(40, 20))\n",
    "\n",
    "    plt.subplot(2, 4, 1)\n",
    "    plt.imshow(raw_image, cmap='gray')\n",
    "    plt.title('Original Image ' +img)\n",
    "    plt.colorbar()\n",
    "    plt.subplot(2, 4, 5)\n",
    "    plt.hist(raw_image.ravel(), bins=256, color='gray')\n",
    "    plt.title(\"Original Image Histogram \"+img)\n",
    "\n",
    "    # Plot contrast-stretched image and histogram\n",
    "    plt.subplot(2, 4, 2)\n",
    "    plt.imshow(contrast_stretched, cmap='gray')\n",
    "    plt.title('Contrast-Stretched Image '+img)\n",
    "    plt.colorbar()\n",
    "    plt.subplot(2, 4, 6)\n",
    "    plt.hist(contrast_stretched.ravel(), bins=256, color='gray')\n",
    "    plt.title(\"Contrast-Stretched Histogram \"+img)\n",
    "\n",
    "    # Plot contrast-equalized image and histogram\n",
    "    plt.subplot(2, 4, 3)\n",
    "    plt.imshow(equalized_image, cmap='gray')\n",
    "    plt.title('Contrast Equalized Image '+img)\n",
    "    plt.colorbar()\n",
    "    plt.subplot(2, 4, 7)\n",
    "    plt.hist(equalized_image.ravel(), bins=256, color='gray')\n",
    "    plt.title(\"Equalized Histogram \"+img)\n",
    "\n",
    "    # Plot gamma-corrected image and histogram\n",
    "    plt.subplot(2, 4, 4)\n",
    "    plt.imshow(gamma_corrected, cmap='gray')\n",
    "    plt.title(f'Gamma-Corrected Image (Gamma={1.2}) '+img)\n",
    "    plt.colorbar()\n",
    "    plt.subplot(2, 4, 8)\n",
    "    plt.hist(gamma_corrected.ravel(), bins=256, color='gray')\n",
    "    plt.title(\"Gamma-Corrected Histogram \"+img)\n",
    "\n",
    "    plt.tight_layout()\n",
    "    plt.show()\n",
    "\n"
   ]
  },
  {
   "cell_type": "markdown",
   "id": "2f45bd36-eeb8-4aa9-b17c-02efddea3294",
   "metadata": {},
   "source": [
    "Burada yine sizin hazırda verdiğiniz kodları foreach ile çoklandırdım. 2 satır 4 sütun olrak filtrelediğimiz resimleri bastırmış olduk"
   ]
  },
  {
   "cell_type": "code",
   "execution_count": null,
   "id": "3cee8d06-b673-4d89-86c2-92783b6ad501",
   "metadata": {},
   "outputs": [],
   "source": [
    "for img in images:\n",
    "\n",
    "    raw_image = get_raw_image(img)\n",
    "\n",
    "    median_filtered = cv2.medianBlur(raw_image, 5)\n",
    "\n",
    "    plt.figure(figsize=(10, 5))\n",
    "\n",
    "    # Apply Gaussian Blur\n",
    "    gaussian_filtered = cv2.GaussianBlur(raw_image, (5, 5), 0)\n",
    "\n",
    "    # used 1 row and 5 column for showing images\n",
    "    plt.subplot(1, 2, 1), plt.imshow(median_filtered, cmap='gray'), plt.title(\"Median Filtered Image \"+img)\n",
    "    plt.subplot(1, 2, 2), plt.imshow(gaussian_filtered, cmap='gray'), plt.title(\"Gaussian Filtered Image \"+img)\n",
    "    plt.show()"
   ]
  },
  {
   "cell_type": "markdown",
   "id": "f2ed1637-988b-4c45-a3a2-0712585cfe4a",
   "metadata": {},
   "source": [
    "Burada yine sizin hazırda verdiğiniz kodları foreach ile çoklandırdım. Ek olarak 1 satır 2 sütun olarak ekrana bastırdım. Bu kısımlarda subplot() methodunun nasıl çalıştığını kavradım."
   ]
  },
  {
   "cell_type": "code",
   "execution_count": null,
   "id": "0bff3631-aa25-45b5-b45d-543a0f716e09",
   "metadata": {},
   "outputs": [],
   "source": [
    "print(\"We show 3 images side by side, 9 in a row\")\n",
    "for img in random_images:\n",
    "\n",
    "    #get raw_image\n",
    "    raw_image = get_raw_image(img)\n",
    "    #set new figsize\n",
    "    plt.figure(figsize=(20, 10))\n",
    "    random_angle=random.randrange(0, 10)\n",
    "    # get center of raw_images\n",
    "    center = (raw_image.shape[1] // 2, raw_image.shape[0] // 2)\n",
    "    #find rotation matrix\n",
    "    rotation_matrix = cv2.getRotationMatrix2D(center, angle=random_angle, scale=1.0)\n",
    "    #set ratated_image\n",
    "    rotated_image = cv2.warpAffine(raw_image, rotation_matrix, (raw_image.shape[1], raw_image.shape[0]))\n",
    "\n",
    "    # Horizontal Flip\n",
    "    flipped_horizontal = cv2.flip(raw_image, 1)\n",
    "\n",
    "    #set a table 1 row 3 column\n",
    "    plt.subplot(1, 3, 1), plt.imshow(rotated_image, cmap='gray'), plt.title(\"Rotated \"+img+\" Image with \"+ str(random_angle)+\" degree\")\n",
    "    plt.subplot(1, 3, 2), plt.imshow(flipped_horizontal, cmap='gray'), plt.title(\"Horizontally Flipped Image \"+img)\n",
    "\n",
    "    #fourier transformation\n",
    "    dft = cv2.dft(np.float32(rotated_image), flags=cv2.DFT_COMPLEX_OUTPUT)\n",
    "    dft_shifted = np.fft.fftshift(dft)\n",
    "\n",
    "    # Create a mask for filtering\n",
    "    rows, cols = rotated_image.shape\n",
    "    crow, ccol = rows // 2 , cols // 2\n",
    "    mask = np.zeros((rows, cols, 2), np.uint8)\n",
    "    mask[crow-30:crow+30, ccol-30:ccol+30] = 1  # Center low frequencies pass\n",
    "\n",
    "    # Apply mask and inverse DFT\n",
    "    fshift = dft_shifted * mask\n",
    "    f_ishift = np.fft.ifftshift(fshift)\n",
    "    filtered_image = cv2.idft(f_ishift)\n",
    "    filtered_image = cv2.magnitude(filtered_image[:, :, 0], filtered_image[:, :, 1])\n",
    "\n",
    "    # Normalize and display the filtered image\n",
    "    filtered_image = cv2.normalize(filtered_image, None, 0, 255, cv2.NORM_MINMAX)\n",
    "    plt.subplot(1, 3, 3),plt.imshow(filtered_image, cmap='gray'),plt.title(\"Frequency Domain Filtered Image \"+img)\n",
    "    # Display images\n",
    "    plt.show()"
   ]
  },
  {
   "cell_type": "markdown",
   "id": "500cd9e2-a623-4aa5-8ec6-1a7d4467fb3e",
   "metadata": {},
   "source": [
    "Burada yine sizin hazırda verdiğiniz kodları foreach ile çoklandırdım. 1 satır 3 sütun olarak filtrelediğimiz resimleri bastırdım."
   ]
  },
  {
   "cell_type": "code",
   "execution_count": null,
   "id": "046a28a4-07c6-4c39-a89c-0a1f7c8bf9f9",
   "metadata": {},
   "outputs": [],
   "source": [
    "for img in random_images:\n",
    "    #get raw image\n",
    "    raw_image = get_raw_image(img)\n",
    "\n",
    "    #get min,max\n",
    "    min_val, max_val = get_image_min_max_val(raw_image)[0],get_image_min_max_val(raw_image)[1]\n",
    "\n",
    "    #get versions of images\n",
    "    contrast_stretched = get_image_contrast_stretched(raw_image,min_val,max_val)\n",
    "    equalized_image = get_equalized_image(contrast_stretched)\n",
    "    gamma_corrected = get_gamma_corrected(equalized_image)\n",
    "\n",
    "\n",
    "    # Step 4: Apply sharpening using an unsharp masking kernel\n",
    "    sharpening_kernel = np.array([[-1, -1, -1],\n",
    "                                  [-1,  9, -1],\n",
    "                                  [-1, -1, -1]])\n",
    "    sharpened_image = np.clip(cv2.filter2D(gamma_corrected, -1, sharpening_kernel), 0, 255).astype(np.uint8)\n",
    "\n",
    "    # Step 5: Apply bicubic interpolation to upscale the image by a factor of 2\n",
    "    scale_factor = 2\n",
    "    resized_image = zoom(sharpened_image, scale_factor, order=3)  # Bicubic interpolation with `order=3`\n",
    "\n",
    "    # 12,6 figsize, 1row 2 column table\n",
    "    plt.figure(figsize=(12, 6))\n",
    "    plt.subplot(1, 2, 1), plt.imshow(sharpened_image, cmap='gray'),plt.title(\"Sharpened Image \"+img)\n",
    "    plt.subplot(1, 2, 2), plt.imshow(resized_image, cmap='gray'),plt.title(\"Interpolated (Upscaled) Image \"+img)\n",
    "\n",
    "\n",
    "    plt.tight_layout()\n",
    "    print(img+\" to be processed\")\n",
    "    plt.show()"
   ]
  },
  {
   "cell_type": "code",
   "execution_count": null,
   "id": "10f53c82-763d-4df7-b596-ce7fefd312f1",
   "metadata": {},
   "outputs": [],
   "source": [
    "Burada yine sizin hazırda verdiğiniz kodları foreach ile çoklandırdım. 1 satır 2 sütun olarak resimleri bastırdım."
   ]
  }
 ],
 "metadata": {
  "kernelspec": {
   "display_name": "Python 3 (ipykernel)",
   "language": "python",
   "name": "python3"
  },
  "language_info": {
   "codemirror_mode": {
    "name": "ipython",
    "version": 3
   },
   "file_extension": ".py",
   "mimetype": "text/x-python",
   "name": "python",
   "nbconvert_exporter": "python",
   "pygments_lexer": "ipython3",
   "version": "3.13.0"
  }
 },
 "nbformat": 4,
 "nbformat_minor": 5
}
