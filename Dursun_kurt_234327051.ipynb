version https://git-lfs.github.com/spec/v1
oid sha256:6b254decd279c2c270e11b3b4177ae53a3691373c5557d89ead3f7c493fd166c
size 260302915
